{
 "cells": [
  {
   "cell_type": "code",
   "execution_count": 1,
   "metadata": {},
   "outputs": [],
   "source": [
    "import pandas as pd\n",
    "import torch\n",
    "import re\n",
    "from tqdm.notebook import trange, tqdm\n",
    "from torch import nn, einsum\n",
    "from labels import get_labels\n",
    "from relations import relations"
   ]
  },
  {
   "attachments": {},
   "cell_type": "markdown",
   "metadata": {},
   "source": [
    "label"
   ]
  },
  {
   "cell_type": "code",
   "execution_count": 2,
   "metadata": {},
   "outputs": [
    {
     "name": "stdout",
     "output_type": "stream",
     "text": [
      "{'additional_special_tokens': ['[ner1]', '[/ner1]', '[ner2]', '[/ner2]', '[Association]', '[Bind]', '[Comparison]', '[Conversion]', '[Cotreatment]', '[Drug_Interaction]', '[Negative_Correlation]', '[Positive_Correlation]']} \n",
      " ['[pad]', '[src]', '[ner1]', '[ner2]', '[tgt]', '[none]']\n"
     ]
    }
   ],
   "source": [
    "additional_tokens, labels, id2label, label2id = get_labels(mode='bert_w_ner')\n",
    "print(additional_tokens, \"\\n\", labels)"
   ]
  },
  {
   "attachments": {},
   "cell_type": "markdown",
   "metadata": {},
   "source": [
    "tokenizer"
   ]
  },
  {
   "cell_type": "code",
   "execution_count": 3,
   "metadata": {},
   "outputs": [
    {
     "name": "stdout",
     "output_type": "stream",
     "text": [
      "1: [UNK]\n",
      "3: [SEP]\n",
      "0: [PAD]\n",
      "2: [CLS]\n",
      "4: [MASK]\n"
     ]
    }
   ],
   "source": [
    "from transformers import AutoTokenizer, BertModel\n",
    "\n",
    "tokenizer = AutoTokenizer.from_pretrained(\"microsoft/BiomedNLP-PubMedBERT-base-uncased-abstract-fulltext\")\n",
    "\n",
    "for id in [1, 3, 0, 2, 4]:\n",
    "    print(f\"{id}: {tokenizer.decode(id)}\")"
   ]
  },
  {
   "cell_type": "code",
   "execution_count": 4,
   "metadata": {},
   "outputs": [
    {
     "name": "stdout",
     "output_type": "stream",
     "text": [
      "We have added 12 tokens\n"
     ]
    }
   ],
   "source": [
    "num_added_toks = tokenizer.add_special_tokens(additional_tokens)\n",
    "print('We have added', num_added_toks, 'tokens')\n",
    "# tokenizer.save_pretrained(\"NER_model_tokenizer\")\n",
    "# bert_model.resize_token_embeddings(len(tokenizer))"
   ]
  },
  {
   "attachments": {},
   "cell_type": "markdown",
   "metadata": {},
   "source": [
    "function from py"
   ]
  },
  {
   "cell_type": "code",
   "execution_count": 5,
   "metadata": {},
   "outputs": [],
   "source": [
    "from data_preprocessing import all_line_of_pmid, NER_preprocess_function, make_dataset, get_original_text, get_identifier_and_entity, reorder_list, get_relations\n",
    "from data_preprocessing import make_bert_re_data"
   ]
  },
  {
   "cell_type": "code",
   "execution_count": 6,
   "metadata": {},
   "outputs": [],
   "source": [
    "train_file_path = 'data/BioRED/processed/train.tsv'\n"
   ]
  },
  {
   "cell_type": "code",
   "execution_count": 7,
   "metadata": {},
   "outputs": [],
   "source": [
    "a = make_bert_re_data(file_path=train_file_path, lower=True, output_none=True)"
   ]
  },
  {
   "cell_type": "code",
   "execution_count": 8,
   "metadata": {},
   "outputs": [
    {
     "data": {
      "text/plain": [
       "dict_keys(['pmids', 'input_texts', 'input_relations', 'outputs'])"
      ]
     },
     "execution_count": 8,
     "metadata": {},
     "output_type": "execute_result"
    }
   ],
   "source": [
    "a.keys()"
   ]
  },
  {
   "cell_type": "code",
   "execution_count": 9,
   "metadata": {},
   "outputs": [
    {
     "name": "stdout",
     "output_type": "stream",
     "text": [
      "10491763\n",
      "hepatocyte nuclear factor-6 : associations between genetic variability and [ner1] type ii diabetes [/ner1] and between genetic variability and estimates of [ner2] insulin [/ner2] secretion . the transcription factor hepatocyte nuclear factor (hnf)-6 is an upstream regulator of several genes involved in the pathogenesis of [ner1] maturity-onset diabetes [/ner1] of the young . we therefore tested the hypothesis that variability in the hnf-6 gene is associated with subsets of [ner1] type ii ( non-insulin-dependent ) diabetes mellitus [/ner1] and estimates of [ner2] insulin [/ner2] secretion in glucose tolerant subjects . we cloned the coding region as well as the intron-exon boundaries of the hnf-6 gene . w e then examined them on genomic dna in six mody probands without mutations in the mody1 , mody3 and mody4 genes and in 54 patients with late-onset [ner1] type ii diabetes [/ner1] by combined single strand conformational polymorphism-heteroduplex analysis followed by direct sequencing of identified variants . an identified missense variant was examined in association studies and genotype-phenotype studies . we identified two silent and one missense ( pro75 ala ) variant . i n an association study the allelic frequency of the pro75ala polymorphism was 3.2 % ( 95 % confidence interval , 1.9 - 4.5 ) in 330 patients with [ner1] type ii diabetes mellitus [/ner1] compared with 4.2 % ( 2.4 - 6.0 ) in 238 age-matched glucose tolerant control subjects . moreover , in studies of 238 middle-aged glucose tolerant subjects , of 226 glucose tolerant offspring of [ner1] type ii diabetic [/ner1] patients and of 367 young healthy subjects , the carriers of the polymorphism did not differ from non-carriers in glucose induced serum [ner2] insulin [/ner2] or [ner2] c-peptide [/ner2] responses . mutations in the coding region of the hnf-6 gene are not associated with [ner1] type ii diabetes [/ner1] or with changes in [ner2] insulin [/ner2] responses to glucose among the caucasians examined .\n",
      "[Drug_Interaction]\n",
      "['[src]', '[none]', '[tgt]', '[none]']\n"
     ]
    }
   ],
   "source": [
    "n = 5\n",
    "print(a[\"pmids\"][n])\n",
    "print(a[\"input_texts\"][n])\n",
    "print(a[\"input_relations\"][n])\n",
    "print(a[\"outputs\"][n])"
   ]
  },
  {
   "cell_type": "code",
   "execution_count": 10,
   "metadata": {},
   "outputs": [],
   "source": [
    "from datasets import DatasetDict, Dataset\n",
    "train_dataset_raw = Dataset.from_dict(a)"
   ]
  },
  {
   "cell_type": "code",
   "execution_count": 11,
   "metadata": {},
   "outputs": [
    {
     "data": {
      "text/plain": [
       "{'pmids': [10491763, 10491763],\n",
       " 'input_texts': ['hepatocyte nuclear factor-6 : associations between genetic variability and [ner1] type ii diabetes [/ner1] and between genetic variability and estimates of [ner2] insulin [/ner2] secretion . the transcription factor hepatocyte nuclear factor (hnf)-6 is an upstream regulator of several genes involved in the pathogenesis of [ner1] maturity-onset diabetes [/ner1] of the young . we therefore tested the hypothesis that variability in the hnf-6 gene is associated with subsets of [ner1] type ii ( non-insulin-dependent ) diabetes mellitus [/ner1] and estimates of [ner2] insulin [/ner2] secretion in glucose tolerant subjects . we cloned the coding region as well as the intron-exon boundaries of the hnf-6 gene . w e then examined them on genomic dna in six mody probands without mutations in the mody1 , mody3 and mody4 genes and in 54 patients with late-onset [ner1] type ii diabetes [/ner1] by combined single strand conformational polymorphism-heteroduplex analysis followed by direct sequencing of identified variants . an identified missense variant was examined in association studies and genotype-phenotype studies . we identified two silent and one missense ( pro75 ala ) variant . i n an association study the allelic frequency of the pro75ala polymorphism was 3.2 % ( 95 % confidence interval , 1.9 - 4.5 ) in 330 patients with [ner1] type ii diabetes mellitus [/ner1] compared with 4.2 % ( 2.4 - 6.0 ) in 238 age-matched glucose tolerant control subjects . moreover , in studies of 238 middle-aged glucose tolerant subjects , of 226 glucose tolerant offspring of [ner1] type ii diabetic [/ner1] patients and of 367 young healthy subjects , the carriers of the polymorphism did not differ from non-carriers in glucose induced serum [ner2] insulin [/ner2] or [ner2] c-peptide [/ner2] responses . mutations in the coding region of the hnf-6 gene are not associated with [ner1] type ii diabetes [/ner1] or with changes in [ner2] insulin [/ner2] responses to glucose among the caucasians examined .',\n",
       "  'hepatocyte nuclear factor-6 : associations between genetic variability and [ner1] type ii diabetes [/ner1] and between genetic variability and estimates of insulin secretion . the transcription factor hepatocyte nuclear factor (hnf)-6 is an upstream regulator of several genes involved in the pathogenesis of [ner1] maturity-onset diabetes [/ner1] of the young . we therefore tested the hypothesis that variability in the hnf-6 gene is associated with subsets of [ner1] type ii ( non-insulin-dependent ) diabetes mellitus [/ner1] and estimates of insulin secretion in glucose tolerant subjects . we cloned the coding region as well as the intron-exon boundaries of the hnf-6 gene . w e then examined them on genomic dna in six [ner2] mody [/ner2] probands without mutations in the mody1 , [ner2] mody3 [/ner2] and mody4 genes and in 54 patients with late-onset [ner1] type ii diabetes [/ner1] by combined single strand conformational polymorphism-heteroduplex analysis followed by direct sequencing of identified variants . an identified missense variant was examined in association studies and genotype-phenotype studies . we identified two silent and one missense ( pro75 ala ) variant . i n an association study the allelic frequency of the pro75ala polymorphism was 3.2 % ( 95 % confidence interval , 1.9 - 4.5 ) in 330 patients with [ner1] type ii diabetes mellitus [/ner1] compared with 4.2 % ( 2.4 - 6.0 ) in 238 age-matched glucose tolerant control subjects . moreover , in studies of 238 middle-aged glucose tolerant subjects , of 226 glucose tolerant offspring of [ner1] type ii diabetic [/ner1] patients and of 367 young healthy subjects , the carriers of the polymorphism did not differ from non-carriers in glucose induced serum insulin or c-peptide responses . mutations in the coding region of the hnf-6 gene are not associated with [ner1] type ii diabetes [/ner1] or with changes in insulin responses to glucose among the caucasians examined .'],\n",
       " 'input_relations': ['[Bind]', '[Bind]'],\n",
       " 'outputs': [['[src]', '[none]', '[tgt]', '[none]'],\n",
       "  ['[src]', '[none]', '[tgt]', '[none]']]}"
      ]
     },
     "execution_count": 11,
     "metadata": {},
     "output_type": "execute_result"
    }
   ],
   "source": [
    "train_dataset_raw[1, 25]"
   ]
  },
  {
   "attachments": {},
   "cell_type": "markdown",
   "metadata": {},
   "source": [
    "# pre-process func"
   ]
  },
  {
   "cell_type": "code",
   "execution_count": 12,
   "metadata": {},
   "outputs": [
    {
     "name": "stdout",
     "output_type": "stream",
     "text": [
      "{'additional_special_tokens': ['[ner1]', '[/ner1]', '[ner2]', '[/ner2]', '[Association]', '[Bind]', '[Comparison]', '[Conversion]', '[Cotreatment]', '[Drug_Interaction]', '[Negative_Correlation]', '[Positive_Correlation]']} \n",
      " ['[pad]', '[src]', '[ner1]', '[ner2]', '[tgt]', '[none]']\n",
      "{'[pad]': 0, '[src]': 1, '[ner1]': 2, '[ner2]': 3, '[tgt]': 4, '[none]': 5}\n"
     ]
    }
   ],
   "source": [
    "print(additional_tokens, \"\\n\", labels)\n",
    "print(label2id)"
   ]
  },
  {
   "cell_type": "code",
   "execution_count": 17,
   "metadata": {},
   "outputs": [
    {
     "data": {
      "text/plain": [
       "{'input_ids': [[2, 14675, 4254, 2991, 17, 26, 30, 5253, 2192, 3299, 5687, 1930, 2601, 2890, 4032, 1930, 2192, 2065, 14723, 3], [2, 14675, 4254, 2991, 17, 26, 30, 5253, 2192, 3299, 5687, 1930, 2601, 2890, 4032, 1930, 2192, 2065, 3, 0]], 'token_type_ids': [[0, 0, 0, 0, 0, 0, 0, 0, 0, 0, 0, 0, 0, 0, 0, 0, 0, 0, 0, 0], [0, 0, 0, 0, 0, 0, 0, 0, 0, 0, 0, 0, 0, 0, 0, 0, 0, 0, 0, 0]], 'attention_mask': [[1, 1, 1, 1, 1, 1, 1, 1, 1, 1, 1, 1, 1, 1, 1, 1, 1, 1, 1, 1], [1, 1, 1, 1, 1, 1, 1, 1, 1, 1, 1, 1, 1, 1, 1, 1, 1, 1, 1, 0]]}"
      ]
     },
     "execution_count": 17,
     "metadata": {},
     "output_type": "execute_result"
    }
   ],
   "source": [
    "tokenizer(['hepatocyte nuclear factor-6 : associations between genetic variability and type ii diabetes and between gen hus',  'hepatocyte nuclear factor-6 : associations between genetic variability and type ii diabetes and between gen'], padding=True)"
   ]
  },
  {
   "cell_type": "code",
   "execution_count": 18,
   "metadata": {},
   "outputs": [
    {
     "name": "stdout",
     "output_type": "stream",
     "text": [
      "input_ids:  [[2, 30527, 3, 14675, 4254, 2991, 17, 26, 30, 5253, 2192, 3299, 5687, 1930, 30522, 2601, 2890, 4032, 30523, 1930, 2192, 3299, 5687, 1930, 5280, 1927, 30524, 4122, 30525, 5512, 18, 1920, 3213, 2991, 14675, 4254, 2991, 12, 18268, 13, 17, 26, 1977, 1925, 7671, 7888, 1927, 2980, 2628, 3286, 1922, 1920, 6559, 1927, 30522, 17728, 17, 4727, 4032, 30523, 1927, 1920, 4201, 18, 2038, 2955, 3620, 1920, 4676, 1988, 5687, 1922, 1920, 18268, 17, 26, 2359, 1977, 2458, 1956, 9524, 1927, 30522, 2601, 2890, 12, 2447, 17, 4122, 17, 3100, 13, 4032, 9695, 30523, 1930, 5280, 1927, 30524, 4122, 30525, 5512, 1922, 3817, 16126, 3297, 18, 2038, 8283, 1920, 5804, 3031, 1966, 2486, 1966, 1920, 10444, 17, 7049, 11471, 1927, 1920, 18268, 17, 26, 2359, 18, 65, 47, 2759, 3572, 3581, 1990, 4935, 2678, 1922, 3798, 2157, 1012, 23259, 2979, 3527, 1922, 1920, 2157, 13294, 16, 2157, 1012, 1010, 1930, 2157, 1012, 1006, 2628, 1930, 1922, 4584, 2132, 1956, 5058, 17, 4727, 30522, 2601, 2890, 4032, 30523, 2007, 4252, 2957, 5984, 8523, 8218, 17, 11330, 3481, 2592, 2333, 3489, 2007, 3083, 4754, 1927, 2899, 4936, 18, 1925, 2899, 13519, 6031, 1982, 3572, 1922, 3279, 2351, 1930, 5619, 17, 4629, 2351, 18, 2038, 2899, 2288, 15381, 1930, 2340, 13519, 12, 1965, 8245, 10527, 13, 6031, 18, 51, 56, 1925, 3279, 2161, 1920, 13045, 3528, 1927, 1920, 1965, 8245, 8056, 8218, 1982, 23, 18, 22, 9, 12, 3002, 9, 5203, 4979, 16, 21, 18, 29, 17, 24, 18, 25, 13, 1922, 18891, 2132, 1956, 30522, 2601, 2890, 4032, 9695, 30523, 2452, 1956, 24, 18, 22, 9, 12, 22, 18, 24, 17, 26, 18, 20, 13, 1922, 19474, 2632, 17, 5992, 3817, 16126, 2285, 3297, 18, 3950, 16, 1922, 2351, 1927, 19474, 5576, 17, 5177, 3817, 16126, 3297, 16, 1927, 19637, 3817, 16126, 9074, 1927, 30522, 2601, 2890, 6152, 30523, 2132, 1930, 1927, 26097, 4201, 4097, 3297, 16, 1920, 8974, 1927, 1920, 8218, 2811, 2084, 2129, 2037, 2447, 17, 8974, 1922, 3817, 2719, 3256, 30524, 4122, 30525, 2014, 30524, 45, 17, 4207, 30525, 3387, 18, 3527, 1922, 1920, 5804, 3031, 1927, 1920, 18268, 17, 26, 2359, 2032, 2084, 2458, 1956, 30522, 2601, 2890, 4032, 30523, 2014, 1956, 2840, 1922, 30524, 4122, 30525, 3387, 1942, 3817, 2706, 1920, 21338, 3572, 18, 0, 0, 0, 0, 0, 0, 0, 0, 0, 0, 0, 0, 0, 0, 0, 0, 0, 0, 0, 0, 0, 0, 0, 0, 0, 0, 0, 0, 0, 0, 0, 0, 0, 0, 0, 0, 0, 0, 0, 0, 0, 0, 0, 0, 0, 0, 0, 0, 0, 0, 0, 0, 0, 0, 0, 0, 0, 0, 0, 0, 0, 0, 0, 0, 0, 0, 0, 0, 0, 0, 0, 0, 0, 0, 0, 0, 0, 0, 0, 0, 0, 0, 0, 0, 0, 0, 0, 0, 0, 0, 0, 0, 0, 0, 0, 0, 0, 0, 0, 0, 0, 0, 0, 0, 0, 0, 0, 0, 0, 0, 0, 0, 0, 0, 0, 0, 0, 0, 0, 0, 0, 0, 0, 0, 0, 0, 0, 0, 0, 0, 0, 0, 0, 0], [2, 30527, 3, 14675, 4254, 2991, 17, 26, 30, 5253, 2192, 3299, 5687, 1930, 30522, 2601, 2890, 4032, 30523, 1930, 2192, 3299, 5687, 1930, 5280, 1927, 4122, 5512, 18, 1920, 3213, 2991, 14675, 4254, 2991, 12, 18268, 13, 17, 26, 1977, 1925, 7671, 7888, 1927, 2980, 2628, 3286, 1922, 1920, 6559, 1927, 30522, 17728, 17, 4727, 4032, 30523, 1927, 1920, 4201, 18, 2038, 2955, 3620, 1920, 4676, 1988, 5687, 1922, 1920, 18268, 17, 26, 2359, 1977, 2458, 1956, 9524, 1927, 30522, 2601, 2890, 12, 2447, 17, 4122, 17, 3100, 13, 4032, 9695, 30523, 1930, 5280, 1927, 4122, 5512, 1922, 3817, 16126, 3297, 18, 2038, 8283, 1920, 5804, 3031, 1966, 2486, 1966, 1920, 10444, 17, 7049, 11471, 1927, 1920, 18268, 17, 26, 2359, 18, 65, 47, 2759, 3572, 3581, 1990, 4935, 2678, 1922, 3798, 30524, 2157, 1012, 30525, 23259, 2979, 3527, 1922, 1920, 2157, 13294, 16, 30524, 2157, 1012, 1010, 30525, 1930, 2157, 1012, 1006, 2628, 1930, 1922, 4584, 2132, 1956, 5058, 17, 4727, 30522, 2601, 2890, 4032, 30523, 2007, 4252, 2957, 5984, 8523, 8218, 17, 11330, 3481, 2592, 2333, 3489, 2007, 3083, 4754, 1927, 2899, 4936, 18, 1925, 2899, 13519, 6031, 1982, 3572, 1922, 3279, 2351, 1930, 5619, 17, 4629, 2351, 18, 2038, 2899, 2288, 15381, 1930, 2340, 13519, 12, 1965, 8245, 10527, 13, 6031, 18, 51, 56, 1925, 3279, 2161, 1920, 13045, 3528, 1927, 1920, 1965, 8245, 8056, 8218, 1982, 23, 18, 22, 9, 12, 3002, 9, 5203, 4979, 16, 21, 18, 29, 17, 24, 18, 25, 13, 1922, 18891, 2132, 1956, 30522, 2601, 2890, 4032, 9695, 30523, 2452, 1956, 24, 18, 22, 9, 12, 22, 18, 24, 17, 26, 18, 20, 13, 1922, 19474, 2632, 17, 5992, 3817, 16126, 2285, 3297, 18, 3950, 16, 1922, 2351, 1927, 19474, 5576, 17, 5177, 3817, 16126, 3297, 16, 1927, 19637, 3817, 16126, 9074, 1927, 30522, 2601, 2890, 6152, 30523, 2132, 1930, 1927, 26097, 4201, 4097, 3297, 16, 1920, 8974, 1927, 1920, 8218, 2811, 2084, 2129, 2037, 2447, 17, 8974, 1922, 3817, 2719, 3256, 4122, 2014, 45, 17, 4207, 3387, 18, 3527, 1922, 1920, 5804, 3031, 1927, 1920, 18268, 17, 26, 2359, 2032, 2084, 2458, 1956, 30522, 2601, 2890, 4032, 30523, 2014, 1956, 2840, 1922, 4122, 3387, 1942, 3817, 2706, 1920, 21338, 3572, 18, 0, 0, 0, 0, 0, 0, 0, 0, 0, 0, 0, 0, 0, 0, 0, 0, 0, 0, 0, 0, 0, 0, 0, 0, 0, 0, 0, 0, 0, 0, 0, 0, 0, 0, 0, 0, 0, 0, 0, 0, 0, 0, 0, 0, 0, 0, 0, 0, 0, 0, 0, 0, 0, 0, 0, 0, 0, 0, 0, 0, 0, 0, 0, 0, 0, 0, 0, 0, 0, 0, 0, 0, 0, 0, 0, 0, 0, 0, 0, 0, 0, 0, 0, 0, 0, 0, 0, 0, 0, 0, 0, 0, 0, 0, 0, 0, 0, 0, 0, 0, 0, 0, 0, 0, 0, 0, 0, 0, 0, 0, 0, 0, 0, 0, 0, 0, 0, 0, 0, 0, 0, 0, 0, 0, 0, 0, 0, 0, 0, 0, 0, 0, 0, 0, 0, 0, 0, 0, 0, 0]] \n",
      "attention_mask:  [[1, 1, 1, 1, 1, 1, 1, 1, 1, 1, 1, 1, 1, 1, 1, 1, 1, 1, 1, 1, 1, 1, 1, 1, 1, 1, 1, 1, 1, 1, 1, 1, 1, 1, 1, 1, 1, 1, 1, 1, 1, 1, 1, 1, 1, 1, 1, 1, 1, 1, 1, 1, 1, 1, 1, 1, 1, 1, 1, 1, 1, 1, 1, 1, 1, 1, 1, 1, 1, 1, 1, 1, 1, 1, 1, 1, 1, 1, 1, 1, 1, 1, 1, 1, 1, 1, 1, 1, 1, 1, 1, 1, 1, 1, 1, 1, 1, 1, 1, 1, 1, 1, 1, 1, 1, 1, 1, 1, 1, 1, 1, 1, 1, 1, 1, 1, 1, 1, 1, 1, 1, 1, 1, 1, 1, 1, 1, 1, 1, 1, 1, 1, 1, 1, 1, 1, 1, 1, 1, 1, 1, 1, 1, 1, 1, 1, 1, 1, 1, 1, 1, 1, 1, 1, 1, 1, 1, 1, 1, 1, 1, 1, 1, 1, 1, 1, 1, 1, 1, 1, 1, 1, 1, 1, 1, 1, 1, 1, 1, 1, 1, 1, 1, 1, 1, 1, 1, 1, 1, 1, 1, 1, 1, 1, 1, 1, 1, 1, 1, 1, 1, 1, 1, 1, 1, 1, 1, 1, 1, 1, 1, 1, 1, 1, 1, 1, 1, 1, 1, 1, 1, 1, 1, 1, 1, 1, 1, 1, 1, 1, 1, 1, 1, 1, 1, 1, 1, 1, 1, 1, 1, 1, 1, 1, 1, 1, 1, 1, 1, 1, 1, 1, 1, 1, 1, 1, 1, 1, 1, 1, 1, 1, 1, 1, 1, 1, 1, 1, 1, 1, 1, 1, 1, 1, 1, 1, 1, 1, 1, 1, 1, 1, 1, 1, 1, 1, 1, 1, 1, 1, 1, 1, 1, 1, 1, 1, 1, 1, 1, 1, 1, 1, 1, 1, 1, 1, 1, 1, 1, 1, 1, 1, 1, 1, 1, 1, 1, 1, 1, 1, 1, 1, 1, 1, 1, 1, 1, 1, 1, 1, 1, 1, 1, 1, 1, 1, 1, 1, 1, 1, 1, 1, 1, 1, 1, 1, 1, 1, 1, 1, 1, 1, 1, 1, 1, 1, 1, 1, 1, 1, 1, 1, 1, 1, 1, 1, 1, 1, 1, 1, 1, 1, 1, 1, 1, 1, 1, 1, 0, 0, 0, 0, 0, 0, 0, 0, 0, 0, 0, 0, 0, 0, 0, 0, 0, 0, 0, 0, 0, 0, 0, 0, 0, 0, 0, 0, 0, 0, 0, 0, 0, 0, 0, 0, 0, 0, 0, 0, 0, 0, 0, 0, 0, 0, 0, 0, 0, 0, 0, 0, 0, 0, 0, 0, 0, 0, 0, 0, 0, 0, 0, 0, 0, 0, 0, 0, 0, 0, 0, 0, 0, 0, 0, 0, 0, 0, 0, 0, 0, 0, 0, 0, 0, 0, 0, 0, 0, 0, 0, 0, 0, 0, 0, 0, 0, 0, 0, 0, 0, 0, 0, 0, 0, 0, 0, 0, 0, 0, 0, 0, 0, 0, 0, 0, 0, 0, 0, 0, 0, 0, 0, 0, 0, 0, 0, 0, 0, 0, 0, 0, 0, 0], [1, 1, 1, 1, 1, 1, 1, 1, 1, 1, 1, 1, 1, 1, 1, 1, 1, 1, 1, 1, 1, 1, 1, 1, 1, 1, 1, 1, 1, 1, 1, 1, 1, 1, 1, 1, 1, 1, 1, 1, 1, 1, 1, 1, 1, 1, 1, 1, 1, 1, 1, 1, 1, 1, 1, 1, 1, 1, 1, 1, 1, 1, 1, 1, 1, 1, 1, 1, 1, 1, 1, 1, 1, 1, 1, 1, 1, 1, 1, 1, 1, 1, 1, 1, 1, 1, 1, 1, 1, 1, 1, 1, 1, 1, 1, 1, 1, 1, 1, 1, 1, 1, 1, 1, 1, 1, 1, 1, 1, 1, 1, 1, 1, 1, 1, 1, 1, 1, 1, 1, 1, 1, 1, 1, 1, 1, 1, 1, 1, 1, 1, 1, 1, 1, 1, 1, 1, 1, 1, 1, 1, 1, 1, 1, 1, 1, 1, 1, 1, 1, 1, 1, 1, 1, 1, 1, 1, 1, 1, 1, 1, 1, 1, 1, 1, 1, 1, 1, 1, 1, 1, 1, 1, 1, 1, 1, 1, 1, 1, 1, 1, 1, 1, 1, 1, 1, 1, 1, 1, 1, 1, 1, 1, 1, 1, 1, 1, 1, 1, 1, 1, 1, 1, 1, 1, 1, 1, 1, 1, 1, 1, 1, 1, 1, 1, 1, 1, 1, 1, 1, 1, 1, 1, 1, 1, 1, 1, 1, 1, 1, 1, 1, 1, 1, 1, 1, 1, 1, 1, 1, 1, 1, 1, 1, 1, 1, 1, 1, 1, 1, 1, 1, 1, 1, 1, 1, 1, 1, 1, 1, 1, 1, 1, 1, 1, 1, 1, 1, 1, 1, 1, 1, 1, 1, 1, 1, 1, 1, 1, 1, 1, 1, 1, 1, 1, 1, 1, 1, 1, 1, 1, 1, 1, 1, 1, 1, 1, 1, 1, 1, 1, 1, 1, 1, 1, 1, 1, 1, 1, 1, 1, 1, 1, 1, 1, 1, 1, 1, 1, 1, 1, 1, 1, 1, 1, 1, 1, 1, 1, 1, 1, 1, 1, 1, 1, 1, 1, 1, 1, 1, 1, 1, 1, 1, 1, 1, 1, 1, 1, 1, 1, 1, 1, 1, 1, 1, 1, 1, 1, 1, 1, 1, 1, 1, 1, 1, 1, 1, 1, 1, 1, 1, 0, 0, 0, 0, 0, 0, 0, 0, 0, 0, 0, 0, 0, 0, 0, 0, 0, 0, 0, 0, 0, 0, 0, 0, 0, 0, 0, 0, 0, 0, 0, 0, 0, 0, 0, 0, 0, 0, 0, 0, 0, 0, 0, 0, 0, 0, 0, 0, 0, 0, 0, 0, 0, 0, 0, 0, 0, 0, 0, 0, 0, 0, 0, 0, 0, 0, 0, 0, 0, 0, 0, 0, 0, 0, 0, 0, 0, 0, 0, 0, 0, 0, 0, 0, 0, 0, 0, 0, 0, 0, 0, 0, 0, 0, 0, 0, 0, 0, 0, 0, 0, 0, 0, 0, 0, 0, 0, 0, 0, 0, 0, 0, 0, 0, 0, 0, 0, 0, 0, 0, 0, 0, 0, 0, 0, 0, 0, 0, 0, 0, 0, 0, 0, 0, 0, 0, 0, 0, 0, 0]] \n",
      "labels:  [[1, 5, 4, 5, 0, 0, 0, 0, 0, 0, 0, 0, 0, 0, 0, 0, 0, 0, 0, 0, 0, 0, 0, 0, 0, 0, 0, 0, 0, 0, 0, 0, 0, 0, 0, 0, 0, 0, 0, 0, 0, 0, 0, 0, 0, 0, 0, 0, 0, 0, 0, 0, 0, 0, 0, 0, 0, 0, 0, 0, 0, 0, 0, 0, 0, 0, 0, 0, 0, 0, 0, 0, 0, 0, 0, 0, 0, 0, 0, 0, 0, 0, 0, 0, 0, 0, 0, 0, 0, 0, 0, 0, 0, 0, 0, 0, 0, 0, 0, 0, 0, 0, 0, 0, 0, 0, 0, 0, 0, 0, 0, 0, 0, 0, 0, 0, 0, 0, 0, 0, 0, 0, 0, 0, 0, 0, 0, 0, 0, 0, 0, 0, 0, 0, 0, 0, 0, 0, 0, 0, 0, 0, 0, 0, 0, 0, 0, 0, 0, 0, 0, 0, 0, 0, 0, 0, 0, 0, 0, 0, 0, 0, 0, 0, 0, 0, 0, 0, 0, 0, 0, 0, 0, 0, 0, 0, 0, 0, 0, 0, 0, 0, 0, 0, 0, 0, 0, 0, 0, 0, 0, 0, 0, 0, 0, 0, 0, 0, 0, 0, 0, 0, 0, 0, 0, 0, 0, 0, 0, 0, 0, 0, 0, 0, 0, 0, 0, 0, 0, 0, 0, 0, 0, 0, 0, 0, 0, 0, 0, 0, 0, 0, 0, 0, 0, 0, 0, 0, 0, 0, 0, 0, 0, 0, 0, 0, 0, 0, 0, 0, 0, 0, 0, 0, 0, 0, 0, 0, 0, 0, 0, 0, 0, 0, 0, 0, 0, 0, 0, 0, 0, 0, 0, 0, 0, 0, 0, 0, 0, 0, 0, 0, 0, 0, 0, 0, 0, 0, 0, 0, 0, 0, 0, 0, 0, 0, 0, 0, 0, 0, 0, 0, 0, 0, 0, 0, 0, 0, 0, 0, 0, 0, 0, 0, 0, 0, 0, 0, 0, 0, 0, 0, 0, 0, 0, 0, 0, 0, 0, 0, 0, 0, 0, 0, 0, 0, 0, 0, 0, 0, 0, 0, 0, 0, 0, 0, 0, 0, 0, 0, 0, 0, 0, 0, 0, 0, 0, 0, 0, 0, 0, 0, 0, 0, 0, 0, 0, 0, 0, 0, 0, 0, 0, 0, 0, 0, 0, 0, 0, 0, 0, 0, 0, 0, 0, 0, 0, 0, 0, 0, 0, 0, 0, 0, 0, 0, 0, 0, 0, 0, 0, 0, 0, 0, 0, 0, 0, 0, 0, 0, 0, 0, 0, 0, 0, 0, 0, 0, 0, 0, 0, 0, 0, 0, 0, 0, 0, 0, 0, 0, 0, 0, 0, 0, 0, 0, 0, 0, 0, 0, 0, 0, 0, 0, 0, 0, 0, 0, 0, 0, 0, 0, 0, 0, 0, 0, 0, 0, 0, 0, 0, 0, 0, 0, 0, 0, 0, 0, 0, 0, 0, 0, 0, 0, 0, 0, 0, 0, 0, 0, 0, 0, 0, 0, 0, 0, 0, 0, 0, 0, 0, 0, 0, 0, 0, 0, 0, 0, 0, 0, 0, 0, 0, 0, 0, 0, 0, 0, 0, 0, 0, 0], [1, 5, 4, 5, 0, 0, 0, 0, 0, 0, 0, 0, 0, 0, 0, 0, 0, 0, 0, 0, 0, 0, 0, 0, 0, 0, 0, 0, 0, 0, 0, 0, 0, 0, 0, 0, 0, 0, 0, 0, 0, 0, 0, 0, 0, 0, 0, 0, 0, 0, 0, 0, 0, 0, 0, 0, 0, 0, 0, 0, 0, 0, 0, 0, 0, 0, 0, 0, 0, 0, 0, 0, 0, 0, 0, 0, 0, 0, 0, 0, 0, 0, 0, 0, 0, 0, 0, 0, 0, 0, 0, 0, 0, 0, 0, 0, 0, 0, 0, 0, 0, 0, 0, 0, 0, 0, 0, 0, 0, 0, 0, 0, 0, 0, 0, 0, 0, 0, 0, 0, 0, 0, 0, 0, 0, 0, 0, 0, 0, 0, 0, 0, 0, 0, 0, 0, 0, 0, 0, 0, 0, 0, 0, 0, 0, 0, 0, 0, 0, 0, 0, 0, 0, 0, 0, 0, 0, 0, 0, 0, 0, 0, 0, 0, 0, 0, 0, 0, 0, 0, 0, 0, 0, 0, 0, 0, 0, 0, 0, 0, 0, 0, 0, 0, 0, 0, 0, 0, 0, 0, 0, 0, 0, 0, 0, 0, 0, 0, 0, 0, 0, 0, 0, 0, 0, 0, 0, 0, 0, 0, 0, 0, 0, 0, 0, 0, 0, 0, 0, 0, 0, 0, 0, 0, 0, 0, 0, 0, 0, 0, 0, 0, 0, 0, 0, 0, 0, 0, 0, 0, 0, 0, 0, 0, 0, 0, 0, 0, 0, 0, 0, 0, 0, 0, 0, 0, 0, 0, 0, 0, 0, 0, 0, 0, 0, 0, 0, 0, 0, 0, 0, 0, 0, 0, 0, 0, 0, 0, 0, 0, 0, 0, 0, 0, 0, 0, 0, 0, 0, 0, 0, 0, 0, 0, 0, 0, 0, 0, 0, 0, 0, 0, 0, 0, 0, 0, 0, 0, 0, 0, 0, 0, 0, 0, 0, 0, 0, 0, 0, 0, 0, 0, 0, 0, 0, 0, 0, 0, 0, 0, 0, 0, 0, 0, 0, 0, 0, 0, 0, 0, 0, 0, 0, 0, 0, 0, 0, 0, 0, 0, 0, 0, 0, 0, 0, 0, 0, 0, 0, 0, 0, 0, 0, 0, 0, 0, 0, 0, 0, 0, 0, 0, 0, 0, 0, 0, 0, 0, 0, 0, 0, 0, 0, 0, 0, 0, 0, 0, 0, 0, 0, 0, 0, 0, 0, 0, 0, 0, 0, 0, 0, 0, 0, 0, 0, 0, 0, 0, 0, 0, 0, 0, 0, 0, 0, 0, 0, 0, 0, 0, 0, 0, 0, 0, 0, 0, 0, 0, 0, 0, 0, 0, 0, 0, 0, 0, 0, 0, 0, 0, 0, 0, 0, 0, 0, 0, 0, 0, 0, 0, 0, 0, 0, 0, 0, 0, 0, 0, 0, 0, 0, 0, 0, 0, 0, 0, 0, 0, 0, 0, 0, 0, 0, 0, 0, 0, 0, 0, 0, 0, 0, 0, 0, 0, 0, 0, 0, 0, 0, 0, 0, 0, 0, 0, 0, 0, 0, 0, 0, 0, 0, 0, 0, 0, 0, 0, 0, 0, 0, 0, 0, 0]]\n"
     ]
    }
   ],
   "source": [
    "# def bert_w_ner_preprocess_function(examples, tokenizer, max_length=512, mode=\"bert_w_ner\"):\n",
    "input_ids = []\n",
    "labels = []\n",
    "attention_mask = []\n",
    "token_type_ids = []\n",
    "batch_text = examples[\"input_texts\"]\n",
    "batch_relation = examples[\"input_relations\"]\n",
    "batch_output = examples[\"outputs\"]\n",
    "additional_tokens, _, id2label, label2id = get_labels(mode=mode)\n",
    "tokenized_texts = tokenizer(batch_text, add_special_tokens=False)['input_ids']\n",
    "for i, text in enumerate(tokenized_texts):\n",
    "    # input_ids\n",
    "    if len(text) > (max_length - 3):\n",
    "        tokenized_texts[i] = text[:max_length - 3]\n",
    "    \n",
    "    # attention mask\n",
    "    attention = [1] * (len(tokenized_texts[i]) + 3)\n",
    "\n",
    "    # padding\n",
    "    padding_length = max_length - len(tokenized_texts[i]) - 3\n",
    "    \n",
    "\n",
    "    input_ids.append([tokenizer.cls_token_id] + tokenizer.encode(batch_relation[i], add_special_tokens=False) + \\\n",
    "                     [tokenizer.sep_token_id] + tokenized_texts[i] + ([0] * padding_length))\n",
    "    attention_mask.append(attention + ([0] * padding_length))\n",
    "\n",
    "    # labels\n",
    "    label = []\n",
    "    for item in batch_output[i]:\n",
    "        label = label + [label2id[item]]\n",
    "    labels.append(label + ([label2id[\"[pad]\"]] * (max_length - 4)))\n",
    "\n",
    "    assert len(input_ids[i]) == len(attention_mask[i]) == len(labels[i]) == max_length\n",
    "    \n",
    "return {\n",
    "    'input_ids': input_ids,\n",
    "    'attention_mask': attention_mask,\n",
    "    'labels': labels\n",
    "    \n",
    "}"
   ]
  },
  {
   "cell_type": "code",
   "execution_count": 13,
   "metadata": {},
   "outputs": [],
   "source": [
    "from data_preprocessing import bert_w_ner_preprocess_function"
   ]
  },
  {
   "cell_type": "code",
   "execution_count": 19,
   "metadata": {},
   "outputs": [],
   "source": [
    "dataset = DatasetDict({\n",
    "    \"train\": train_dataset_raw,\n",
    "})"
   ]
  },
  {
   "cell_type": "code",
   "execution_count": 23,
   "metadata": {},
   "outputs": [
    {
     "data": {
      "application/vnd.jupyter.widget-view+json": {
       "model_id": "186eef5a35f749bba81156e9bb6855fd",
       "version_major": 2,
       "version_minor": 0
      },
      "text/plain": [
       "Map:   0%|          | 0/183160 [00:00<?, ? examples/s]"
      ]
     },
     "metadata": {},
     "output_type": "display_data"
    }
   ],
   "source": [
    "# tokenized_datasets = dataset.map(preprocess_function, batched=True, remove_columns=[\"inputs\", \"outputs\", \"pmids\"])\n",
    "tokenized_datasets = dataset.map(lambda example: bert_w_ner_preprocess_function(example, tokenizer), batched=True, remove_columns=[\"input_texts\", \"input_relations\", \"outputs\", \"pmids\"])"
   ]
  },
  {
   "cell_type": "code",
   "execution_count": 22,
   "metadata": {},
   "outputs": [
    {
     "data": {
      "text/plain": [
       "DatasetDict({\n",
       "    train: Dataset({\n",
       "        features: ['pmids', 'input_texts', 'input_relations', 'outputs', 'input_ids', 'attention_mask', 'labels'],\n",
       "        num_rows: 183160\n",
       "    })\n",
       "})"
      ]
     },
     "execution_count": 22,
     "metadata": {},
     "output_type": "execute_result"
    }
   ],
   "source": [
    "tokenized_datasets"
   ]
  },
  {
   "cell_type": "code",
   "execution_count": null,
   "metadata": {},
   "outputs": [],
   "source": [
    "# tokenized_train_datasets = train_dataset_raw.map(lambda example: NER_preprocess_function(example, tokenizer=tokenizer, bert=True), batched=False, remove_columns=[\"inputs\", \"outputs\", \"pmids\"])"
   ]
  }
 ],
 "metadata": {
  "kernelspec": {
   "display_name": "BioRED",
   "language": "python",
   "name": "python3"
  },
  "language_info": {
   "codemirror_mode": {
    "name": "ipython",
    "version": 3
   },
   "file_extension": ".py",
   "mimetype": "text/x-python",
   "name": "python",
   "nbconvert_exporter": "python",
   "pygments_lexer": "ipython3",
   "version": "3.10.11"
  },
  "orig_nbformat": 4
 },
 "nbformat": 4,
 "nbformat_minor": 2
}
